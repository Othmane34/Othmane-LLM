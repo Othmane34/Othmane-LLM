{
 "cells": [
  {
   "cell_type": "markdown",
   "metadata": {},
   "source": [
    "## Introduction\n",
    "In this notebook, I will build a deep neural network that functions as part of an end-to-end machine translation pipeline. This completed pipeline will accept English text as input and return the French translation.\n",
    "\n",
    "- **Preprocess** - Convert text to sequence of integers.\n",
    "- **Models** Create models which accepts a sequence of integers as input and returns a probability distribution over possible translations. After learning about the basic types of neural networks that are often used for machine translation, I will design my own model!\n",
    "- **Prediction** Run the model on English text."
   ]
  },
  {
   "cell_type": "code",
   "execution_count": 1,
   "metadata": {},
   "outputs": [],
   "source": [
    "%aimport helper, tests\n",
    "%autoreload 1"
   ]
  },
  {
   "cell_type": "code",
   "execution_count": 2,
   "metadata": {},
   "outputs": [
    {
     "name": "stderr",
     "output_type": "stream",
     "text": [
      "Using TensorFlow backend.\n"
     ]
    }
   ],
   "source": [
    "import collections\n",
    "\n",
    "import helper\n",
    "import numpy as np\n",
    "import project_tests as tests\n",
    "\n",
    "from keras.preprocessing.text import Tokenizer\n",
    "from keras.preprocessing.sequence import pad_sequences\n",
    "from keras.models import Model,Sequential\n",
    "from keras.layers import GRU, Input, Dense, TimeDistributed, Activation, RepeatVector, Bidirectional\n",
    "from keras.layers.embeddings import Embedding\n",
    "from keras.optimizers import Adam\n",
    "from keras.losses import sparse_categorical_crossentropy"
   ]
  },
  {
   "cell_type": "markdown",
   "metadata": {},
   "source": [
    "## Dataset\n",
    "We begin by investigating the dataset that will be used to train and evaluate your pipeline.  The most common datasets used for machine translation are from [WMT](http://www.statmt.org/).  However, that will take a long time to train a neural network on.  We'll be using a dataset we created for this project that contains a small vocabulary.  You'll be able to train your model in a reasonable time with this dataset.\n",
    "### Load Data\n",
    "The data is located in `data/small_vocab_en` and `data/small_vocab_fr`. The `small_vocab_en` file contains English sentences with their French translations in the `small_vocab_fr` file. Load the English and French data from these files from running the cell below."
   ]
  },
  {
   "cell_type": "code",
   "execution_count": 4,
   "metadata": {},
   "outputs": [
    {
     "name": "stdout",
     "output_type": "stream",
     "text": [
      "Dataset Loaded\n"
     ]
    }
   ],
   "source": [
    "# Load English data\n",
    "english_sentences = helper.load_data('data/small_vocab_en')\n",
    "# Load French data\n",
    "french_sentences = helper.load_data('data/small_vocab_fr')\n",
    "\n",
    "print('Dataset Loaded')"
   ]
  },
  {
   "cell_type": "markdown",
   "metadata": {},
   "source": [
    "### Files\n",
    "Each line in `small_vocab_en` contains an English sentence with the respective translation in each line of `small_vocab_fr`.  View the first two lines from each file."
   ]
  },
  {
   "cell_type": "code",
   "execution_count": 5,
   "metadata": {},
   "outputs": [
    {
     "name": "stdout",
     "output_type": "stream",
     "text": [
      "small_vocab_en Line 1:  new jersey is sometimes quiet during autumn , and it is snowy in april .\n",
      "small_vocab_fr Line 1:  new jersey est parfois calme pendant l' automne , et il est neigeux en avril .\n",
      "small_vocab_en Line 2:  the united states is usually chilly during july , and it is usually freezing in november .\n",
      "small_vocab_fr Line 2:  les états-unis est généralement froid en juillet , et il gèle habituellement en novembre .\n"
     ]
    }
   ],
   "source": [
    "for sample_i in range(2):\n",
    "    print('small_vocab_en Line {}:  {}'.format(sample_i + 1, english_sentences[sample_i]))\n",
    "    print('small_vocab_fr Line {}:  {}'.format(sample_i + 1, french_sentences[sample_i]))"
   ]
  },
  {
   "cell_type": "markdown",
   "metadata": {},
   "source": [
    "From looking at the sentences, you can see they have been preprocessed already.  The puncuations have been delimited using spaces. All the text have been converted to lowercase.  This should save you some time, but the text requires more preprocessing.\n",
    "### Vocabulary\n",
    "The complexity of the problem is determined by the complexity of the vocabulary.  A more complex vocabulary is a more complex problem.  Let's look at the complexity of the dataset we'll be working with."
   ]
  },
  {
   "cell_type": "code",
   "execution_count": 6,
   "metadata": {},
   "outputs": [
    {
     "name": "stdout",
     "output_type": "stream",
     "text": [
      "1823250 English words.\n",
      "227 unique English words.\n",
      "10 Most common words in the English dataset:\n",
      "\"is\" \",\" \".\" \"in\" \"it\" \"during\" \"the\" \"but\" \"and\" \"sometimes\"\n",
      "\n",
      "1961295 French words.\n",
      "355 unique French words.\n",
      "10 Most common words in the French dataset:\n",
      "\"est\" \".\" \",\" \"en\" \"il\" \"les\" \"mais\" \"et\" \"la\" \"parfois\"\n"
     ]
    }
   ],
   "source": [
    "english_words_counter = collections.Counter([word for sentence in english_sentences for word in sentence.split()])\n",
    "french_words_counter = collections.Counter([word for sentence in french_sentences for word in sentence.split()])\n",
    "\n",
    "print('{} English words.'.format(len([word for sentence in english_sentences for word in sentence.split()])))\n",
    "print('{} unique English words.'.format(len(english_words_counter)))\n",
    "print('10 Most common words in the English dataset:')\n",
    "print('\"' + '\" \"'.join(list(zip(*english_words_counter.most_common(10)))[0]) + '\"')\n",
    "print()\n",
    "print('{} French words.'.format(len([word for sentence in french_sentences for word in sentence.split()])))\n",
    "print('{} unique French words.'.format(len(french_words_counter)))\n",
    "print('10 Most common words in the French dataset:')\n",
    "print('\"' + '\" \"'.join(list(zip(*french_words_counter.most_common(10)))[0]) + '\"')"
   ]
  },
  {
   "cell_type": "markdown",
   "metadata": {},
   "source": [
    "For comparison, _Alice's Adventures in Wonderland_ contains 2,766 unique words of a total of 15,500 words.\n",
    "## Preprocess\n",
    "For this project, you won't use text data as input to your model. Instead, you'll convert the text into sequences of integers using the following preprocess methods:\n",
    "1. Tokenize the words into ids\n",
    "2. Add padding to make all the sequences the same length.\n",
    "\n",
    "Time to start preprocessing the data...\n",
    "### Tokenize\n",
    "For a neural network to predict on text data, it first has to be turned into data it can understand. Text data like \"dog\" is a sequence of ASCII character encodings.  Since a neural network is a series of multiplication and addition operations, the input data needs to be number(s).\n",
    "\n",
    "We can turn each character into a number or each word into a number.  These are called character and word ids, respectively.  Character ids are used for character level models that generate text predictions for each character.  A word level model uses word ids that generate text predictions for each word.  Word level models tend to learn better, since they are lower in complexity, so we'll use those.\n",
    "\n",
    "Turn each sentence into a sequence of words ids using Keras's [`Tokenizer`](https://keras.io/preprocessing/text/#tokenizer) function. Use this function to tokenize `english_sentences` and `french_sentences` in the cell below.\n",
    "\n",
    "Running the cell will run `tokenize` on sample data and show output for debugging."
   ]
  },
  {
   "cell_type": "code",
   "execution_count": 7,
   "metadata": {},
   "outputs": [
    {
     "name": "stdout",
     "output_type": "stream",
     "text": [
      "{'the': 1, 'quick': 2, 'a': 3, 'brown': 4, 'fox': 5, 'jumps': 6, 'over': 7, 'lazy': 8, 'dog': 9, 'by': 10, 'jove': 11, 'my': 12, 'study': 13, 'of': 14, 'lexicography': 15, 'won': 16, 'prize': 17, 'this': 18, 'is': 19, 'short': 20, 'sentence': 21}\n",
      "\n",
      "Sequence 1 in x\n",
      "  Input:  The quick brown fox jumps over the lazy dog .\n",
      "  Output: [1, 2, 4, 5, 6, 7, 1, 8, 9]\n",
      "Sequence 2 in x\n",
      "  Input:  By Jove , my quick study of lexicography won a prize .\n",
      "  Output: [10, 11, 12, 2, 13, 14, 15, 16, 3, 17]\n",
      "Sequence 3 in x\n",
      "  Input:  This is a short sentence .\n",
      "  Output: [18, 19, 3, 20, 21]\n"
     ]
    }
   ],
   "source": [
    "def tokenize(x):\n",
    "    \"\"\"\n",
    "    Tokenize x\n",
    "    :param x: List of sentences/strings to be tokenized\n",
    "    :return: Tuple of (tokenized x data, tokenizer used to tokenize x)\n",
    "    \"\"\"\n",
    "    x_tk = Tokenizer()\n",
    "    x_tk.fit_on_texts(x)\n",
    "    return x_tk.texts_to_sequences(x), x_tk\n",
    "tests.test_tokenize(tokenize)\n",
    "\n",
    "# Tokenize Example output\n",
    "text_sentences = [\n",
    "    'The quick brown fox jumps over the lazy dog .',\n",
    "    'By Jove , my quick study of lexicography won a prize .',\n",
    "    'This is a short sentence .']\n",
    "text_tokenized, text_tokenizer = tokenize(text_sentences)\n",
    "print(text_tokenizer.word_index)\n",
    "print()\n",
    "for sample_i, (sent, token_sent) in enumerate(zip(text_sentences, text_tokenized)):\n",
    "    print('Sequence {} in x'.format(sample_i + 1))\n",
    "    print('  Input:  {}'.format(sent))\n",
    "    print('  Output: {}'.format(token_sent))"
   ]
  },
  {
   "cell_type": "markdown",
   "metadata": {},
   "source": [
    "### Padding\n",
    "When batching the sequence of word ids together, each sequence needs to be the same length.  Since sentences are dynamic in length, we can add padding to the end of the sequences to make them the same length.\n",
    "\n",
    "Make sure all the English sequences have the same length and all the French sequences have the same length by adding padding to the **end** of each sequence using Keras's [`pad_sequences`](https://keras.io/preprocessing/sequence/#pad_sequences) function."
   ]
  },
  {
   "cell_type": "code",
   "execution_count": 8,
   "metadata": {},
   "outputs": [
    {
     "name": "stdout",
     "output_type": "stream",
     "text": [
      "Sequence 1 in x\n",
      "  Input:  [1 2 4 5 6 7 1 8 9]\n",
      "  Output: [1 2 4 5 6 7 1 8 9 0]\n",
      "Sequence 2 in x\n",
      "  Input:  [10 11 12  2 13 14 15 16  3 17]\n",
      "  Output: [10 11 12  2 13 14 15 16  3 17]\n",
      "Sequence 3 in x\n",
      "  Input:  [18 19  3 20 21]\n",
      "  Output: [18 19  3 20 21  0  0  0  0  0]\n"
     ]
    }
   ],
   "source": [
    "def pad(x, length=None):\n",
    "    \"\"\"\n",
    "    Pad x\n",
    "    :param x: List of sequences.\n",
    "    :param length: Length to pad the sequence to.  If None, use length of longest sequence in x.\n",
    "    :return: Padded numpy array of sequences\n",
    "    \"\"\"\n",
    "    # TODO: Implement\n",
    "    if length == None:\n",
    "        length = max([len(sentence) for sentence in x])\n",
    "    return pad_sequences(x,maxlen=length,padding='post')\n",
    "tests.test_pad(pad)\n",
    "\n",
    "# Pad Tokenized output\n",
    "test_pad = pad(text_tokenized)\n",
    "for sample_i, (token_sent, pad_sent) in enumerate(zip(text_tokenized, test_pad)):\n",
    "    print('Sequence {} in x'.format(sample_i + 1))\n",
    "    print('  Input:  {}'.format(np.array(token_sent)))\n",
    "    print('  Output: {}'.format(pad_sent))"
   ]
  },
  {
   "cell_type": "markdown",
   "metadata": {},
   "source": [
    "### Preprocess Pipeline"
   ]
  },
  {
   "cell_type": "code",
   "execution_count": 9,
   "metadata": {},
   "outputs": [
    {
     "name": "stdout",
     "output_type": "stream",
     "text": [
      "Data Preprocessed\n",
      "Max English sentence length: 15\n",
      "Max French sentence length: 21\n",
      "English vocabulary size: 199\n",
      "French vocabulary size: 344\n"
     ]
    }
   ],
   "source": [
    "def preprocess(x, y):\n",
    "    \"\"\"\n",
    "    Preprocess x and y\n",
    "    :param x: Feature List of sentences\n",
    "    :param y: Label List of sentences\n",
    "    :return: Tuple of (Preprocessed x, Preprocessed y, x tokenizer, y tokenizer)\n",
    "    \"\"\"\n",
    "    preprocess_x, x_tk = tokenize(x)\n",
    "    preprocess_y, y_tk = tokenize(y)\n",
    "\n",
    "    preprocess_x = pad(preprocess_x)\n",
    "    preprocess_y = pad(preprocess_y)\n",
    "\n",
    "    # Keras's sparse_categorical_crossentropy function requires the labels to be in 3 dimensions\n",
    "    preprocess_y = preprocess_y.reshape(*preprocess_y.shape, 1)\n",
    "\n",
    "    return preprocess_x, preprocess_y, x_tk, y_tk\n",
    "\n",
    "preproc_english_sentences, preproc_french_sentences, english_tokenizer, french_tokenizer =\\\n",
    "    preprocess(english_sentences, french_sentences)\n",
    "    \n",
    "max_english_sequence_length = preproc_english_sentences.shape[1]\n",
    "max_french_sequence_length = preproc_french_sentences.shape[1]\n",
    "english_vocab_size = len(english_tokenizer.word_index)\n",
    "french_vocab_size = len(french_tokenizer.word_index)\n",
    "\n",
    "print('Data Preprocessed')\n",
    "print(\"Max English sentence length:\", max_english_sequence_length)\n",
    "print(\"Max French sentence length:\", max_french_sequence_length)\n",
    "print(\"English vocabulary size:\", english_vocab_size)\n",
    "print(\"French vocabulary size:\", french_vocab_size)"
   ]
  },
  {
   "cell_type": "markdown",
   "metadata": {},
   "source": [
    "## Models\n",
    "In this section, I will experiment with various neural network architectures.\n",
    "I will begin by training four relatively simple architectures.\n",
    "- Model 1 is a simple RNN\n",
    "- Model 2 is a RNN with Embedding\n",
    "- Model 3 is a Bidirectional RNN\n",
    "- Model 4 is an optional Encoder-Decoder RNN\n",
    "\n",
    "After experimenting with the four simple architectures, I will construct a deeper architecture that is designed to outperform all four models.\n",
    "### Ids Back to Text\n",
    "The neural network will be translating the input to words ids, which isn't the final form we want.  We want the French translation.  The function `logits_to_text` will bridge the gab between the logits from the neural network to the French translation."
   ]
  },
  {
   "cell_type": "code",
   "execution_count": 10,
   "metadata": {},
   "outputs": [
    {
     "name": "stdout",
     "output_type": "stream",
     "text": [
      "`logits_to_text` function loaded.\n"
     ]
    }
   ],
   "source": [
    "def logits_to_text(logits, tokenizer):\n",
    "    \"\"\"\n",
    "    Turn logits from a neural network into text using the tokenizer\n",
    "    :param logits: Logits from a neural network\n",
    "    :param tokenizer: Keras Tokenizer fit on the labels\n",
    "    :return: String that represents the text of the logits\n",
    "    \"\"\"\n",
    "    index_to_words = {id: word for word, id in tokenizer.word_index.items()}\n",
    "    index_to_words[0] = '<PAD>'\n",
    "\n",
    "    return ' '.join([index_to_words[prediction] for prediction in np.argmax(logits, 1)])\n",
    "\n",
    "print('`logits_to_text` function loaded.')"
   ]
  },
  {
   "cell_type": "markdown",
   "metadata": {},
   "source": [
    "### Model 1: RNN \n",
    "![RNN](images/rnn.png)\n",
    "A basic RNN model is a good baseline for sequence data.  In this model, you'll build a RNN that translates English to French."
   ]
  },
  {
   "cell_type": "code",
   "execution_count": 12,
   "metadata": {},
   "outputs": [
    {
     "name": "stdout",
     "output_type": "stream",
     "text": [
      "Train on 110288 samples, validate on 27573 samples\n",
      "Epoch 1/10\n",
      "110288/110288 [==============================] - 7s 60us/step - loss: 2.8435 - acc: 0.4348 - val_loss: nan - val_acc: 0.4898\n",
      "Epoch 2/10\n",
      "110288/110288 [==============================] - 6s 56us/step - loss: 2.1050 - acc: 0.5114 - val_loss: nan - val_acc: 0.5435\n",
      "Epoch 3/10\n",
      "110288/110288 [==============================] - 6s 56us/step - loss: 1.8635 - acc: 0.5540 - val_loss: nan - val_acc: 0.5661\n",
      "Epoch 4/10\n",
      "110288/110288 [==============================] - 6s 57us/step - loss: 1.7285 - acc: 0.5732 - val_loss: nan - val_acc: 0.5799\n",
      "Epoch 5/10\n",
      "110288/110288 [==============================] - 6s 57us/step - loss: 1.6519 - acc: 0.5820 - val_loss: nan - val_acc: 0.5925\n",
      "Epoch 6/10\n",
      "110288/110288 [==============================] - 6s 56us/step - loss: 1.5989 - acc: 0.5944 - val_loss: nan - val_acc: 0.5964\n",
      "Epoch 7/10\n",
      "110288/110288 [==============================] - 6s 57us/step - loss: 1.5590 - acc: 0.6021 - val_loss: nan - val_acc: 0.6058\n",
      "Epoch 8/10\n",
      "110288/110288 [==============================] - 6s 56us/step - loss: 1.5226 - acc: 0.6094 - val_loss: nan - val_acc: 0.6128\n",
      "Epoch 9/10\n",
      "110288/110288 [==============================] - 6s 56us/step - loss: 1.4951 - acc: 0.6126 - val_loss: nan - val_acc: 0.6151\n",
      "Epoch 10/10\n",
      "110288/110288 [==============================] - 6s 56us/step - loss: 1.4750 - acc: 0.6162 - val_loss: nan - val_acc: 0.6210\n",
      "_________________________________________________________________\n",
      "Layer (type)                 Output Shape              Param #   \n",
      "=================================================================\n",
      "input_4 (InputLayer)         (None, 21, 1)             0         \n",
      "_________________________________________________________________\n",
      "gru_4 (GRU)                  (None, 21, 21)            1449      \n",
      "_________________________________________________________________\n",
      "time_distributed_4 (TimeDist (None, 21, 344)           7568      \n",
      "=================================================================\n",
      "Total params: 9,017\n",
      "Trainable params: 9,017\n",
      "Non-trainable params: 0\n",
      "_________________________________________________________________\n",
      "new jersey est parfois parfois en mois et il est est en en <PAD> <PAD> <PAD> <PAD> <PAD> <PAD> <PAD> <PAD>\n"
     ]
    }
   ],
   "source": [
    "def simple_model(input_shape, output_sequence_length, english_vocab_size, french_vocab_size):\n",
    "    \"\"\"\n",
    "    Build and train a basic RNN on x and y\n",
    "    :param input_shape: Tuple of input shape\n",
    "    :param output_sequence_length: Length of output sequence\n",
    "    :param english_vocab_size: Number of unique English words in the dataset\n",
    "    :param french_vocab_size: Number of unique French words in the dataset\n",
    "    :return: Keras model built, but not trained\n",
    "    \"\"\"\n",
    "    #Config Hyperparameters\n",
    "    learning_rate = 0.01\n",
    "    \n",
    "    #Config Model\n",
    "    inputs = Input(shape=input_shape[1:])\n",
    "    hidden_layer = GRU(output_sequence_length, return_sequences=True)(inputs)\n",
    "    # The output is the french_vocab_size~\n",
    "    outputs = TimeDistributed(Dense(french_vocab_size, activation='softmax'))(hidden_layer)\n",
    "    #Create Model from parameters defined above\n",
    "    model = Model(inputs=inputs, outputs=outputs)\n",
    "    model.compile(loss=sparse_categorical_crossentropy,\n",
    "                  optimizer=Adam(learning_rate),\n",
    "                  metrics=['accuracy'])\n",
    "    return model\n",
    "\n",
    "tests.test_simple_model(simple_model)\n",
    "\n",
    "# Reshaping the input to work with a basic RNN\n",
    "tmp_x = pad(preproc_english_sentences, max_french_sequence_length)\n",
    "tmp_x = tmp_x.reshape((-1, preproc_french_sentences.shape[-2], 1))\n",
    "# Train the neural network\n",
    "simple_rnn_model = simple_model(\n",
    "        tmp_x.shape,\n",
    "    max_french_sequence_length,\n",
    "    english_vocab_size,\n",
    "    french_vocab_size)\n",
    "simple_rnn_model.fit(tmp_x, preproc_french_sentences, batch_size=1024, epochs=10, validation_split=0.2)\n",
    "simple_rnn_model.summary()\n",
    "print(logits_to_text(simple_rnn_model.predict(tmp_x[:1])[0], french_tokenizer))"
   ]
  },
  {
   "cell_type": "markdown",
   "metadata": {},
   "source": [
    "### Model 2: Embedding\n",
    "![RNN](images/embedding.png)\n",
    "You've turned the words into ids, but there's a better representation of a word.  This is called word embeddings.  An embedding is a vector representation of the word that is close to similar words in n-dimensional space, where the n represents the size of the embedding vectors.\n",
    "\n",
    "In this model, I'll create a RNN model using embedding."
   ]
  },
  {
   "cell_type": "code",
   "execution_count": 13,
   "metadata": {},
   "outputs": [
    {
     "name": "stdout",
     "output_type": "stream",
     "text": [
      "_________________________________________________________________\n",
      "Layer (type)                 Output Shape              Param #   \n",
      "=================================================================\n",
      "input_6 (InputLayer)         (None, 21)                0         \n",
      "_________________________________________________________________\n",
      "embedding_2 (Embedding)      (None, 21, 21)            4179      \n",
      "_________________________________________________________________\n",
      "gru_6 (GRU)                  (None, 21, 21)            2709      \n",
      "_________________________________________________________________\n",
      "time_distributed_6 (TimeDist (None, 21, 344)           7568      \n",
      "=================================================================\n",
      "Total params: 14,456\n",
      "Trainable params: 14,456\n",
      "Non-trainable params: 0\n",
      "_________________________________________________________________\n",
      "Train on 110288 samples, validate on 27573 samples\n",
      "Epoch 1/10\n",
      "110288/110288 [==============================] - 7s 68us/step - loss: 3.0750 - acc: 0.4364 - val_loss: nan - val_acc: 0.5396\n",
      "Epoch 2/10\n",
      "110288/110288 [==============================] - 7s 64us/step - loss: 1.5563 - acc: 0.6202 - val_loss: nan - val_acc: 0.6987\n",
      "Epoch 3/10\n",
      "110288/110288 [==============================] - 7s 64us/step - loss: 0.9505 - acc: 0.7457 - val_loss: nan - val_acc: 0.7748\n",
      "Epoch 4/10\n",
      "110288/110288 [==============================] - 7s 63us/step - loss: 0.7549 - acc: 0.7882 - val_loss: nan - val_acc: 0.8002\n",
      "Epoch 5/10\n",
      "110288/110288 [==============================] - 7s 63us/step - loss: 0.6741 - acc: 0.8066 - val_loss: nan - val_acc: 0.8152\n",
      "Epoch 6/10\n",
      "110288/110288 [==============================] - 7s 63us/step - loss: 0.6265 - acc: 0.8187 - val_loss: nan - val_acc: 0.8223\n",
      "Epoch 7/10\n",
      "110288/110288 [==============================] - 7s 63us/step - loss: 0.5885 - acc: 0.8285 - val_loss: nan - val_acc: 0.8347\n",
      "Epoch 8/10\n",
      "110288/110288 [==============================] - 7s 63us/step - loss: 0.5592 - acc: 0.8365 - val_loss: nan - val_acc: 0.8406\n",
      "Epoch 9/10\n",
      "110288/110288 [==============================] - 7s 64us/step - loss: 0.5362 - acc: 0.8423 - val_loss: nan - val_acc: 0.8456\n",
      "Epoch 10/10\n",
      "110288/110288 [==============================] - 7s 64us/step - loss: 0.5182 - acc: 0.8469 - val_loss: nan - val_acc: 0.8493\n",
      "new jersey est parfois calme en l' et et est est est en <PAD> <PAD> <PAD> <PAD> <PAD> <PAD> <PAD> <PAD>\n"
     ]
    }
   ],
   "source": [
    "def embed_model(input_shape, output_sequence_length, english_vocab_size, french_vocab_size):\n",
    "    \"\"\"\n",
    "    Build and train a RNN model using word embedding on x and y\n",
    "    :param input_shape: Tuple of input shape\n",
    "    :param output_sequence_length: Length of output sequence\n",
    "    :param english_vocab_size: Number of unique English words in the dataset\n",
    "    :param french_vocab_size: Number of unique French words in the dataset\n",
    "    :return: Keras model built, but not trained\n",
    "    \"\"\"\n",
    "    learning_rate = 1e-2\n",
    "    #Config Model\n",
    "    inputs = Input(shape=input_shape[1:])\n",
    "    embedding_layer = Embedding(input_dim=english_vocab_size,\n",
    "                                output_dim=output_sequence_length,\n",
    "                                mask_zero=False)(inputs)\n",
    "    hidden_layer = GRU(output_sequence_length, return_sequences=True)(embedding_layer)\n",
    "    outputs = TimeDistributed(Dense(french_vocab_size, activation='softmax'))(hidden_layer)\n",
    "    \n",
    "    #Create Model from parameters defined above\n",
    "    model = Model(inputs=inputs, outputs=outputs)\n",
    "    model.compile(loss=sparse_categorical_crossentropy,\n",
    "                  optimizer=Adam(learning_rate),\n",
    "                  metrics=['accuracy'])    \n",
    "    return model\n",
    "tests.test_embed_model(embed_model)\n",
    "\n",
    "tmp_x = pad(preproc_english_sentences, preproc_french_sentences.shape[1])\n",
    "tmp_x = tmp_x.reshape((-1, preproc_french_sentences.shape[-2]))\n",
    "\n",
    "# Train the neural network\n",
    "embed_rnn_model = embed_model(\n",
    "        tmp_x.shape,\n",
    "    max_french_sequence_length,\n",
    "    english_vocab_size,\n",
    "    french_vocab_size)\n",
    "embed_rnn_model.summary()\n",
    "embed_rnn_model.fit(tmp_x, preproc_french_sentences, batch_size=1024, epochs=10, validation_split=0.2)\n",
    "\n",
    "print(logits_to_text(embed_rnn_model.predict(tmp_x[:1])[0], french_tokenizer))"
   ]
  },
  {
   "cell_type": "markdown",
   "metadata": {},
   "source": [
    "### Model 3: Bidirectional RNNs (IMPLEMENTATION)\n",
    "![RNN](images/bidirectional.png)\n",
    "One restriction of a RNN is that it can't see the future input, only the past.  This is where bidirectional recurrent neural networks come in.  They are able to see the future data."
   ]
  },
  {
   "cell_type": "code",
   "execution_count": 14,
   "metadata": {},
   "outputs": [
    {
     "name": "stdout",
     "output_type": "stream",
     "text": [
      "_________________________________________________________________\n",
      "Layer (type)                 Output Shape              Param #   \n",
      "=================================================================\n",
      "input_8 (InputLayer)         (None, 21, 1)             0         \n",
      "_________________________________________________________________\n",
      "bidirectional_2 (Bidirection (None, 21, 42)            2898      \n",
      "_________________________________________________________________\n",
      "time_distributed_8 (TimeDist (None, 21, 344)           14792     \n",
      "=================================================================\n",
      "Total params: 17,690\n",
      "Trainable params: 17,690\n",
      "Non-trainable params: 0\n",
      "_________________________________________________________________\n",
      "Train on 110288 samples, validate on 27573 samples\n",
      "Epoch 1/10\n",
      "110288/110288 [==============================] - 10s 91us/step - loss: 2.5156 - acc: 0.4913 - val_loss: nan - val_acc: 0.5703\n",
      "Epoch 2/10\n",
      "110288/110288 [==============================] - 9s 83us/step - loss: 1.5894 - acc: 0.5950 - val_loss: nan - val_acc: 0.6082\n",
      "Epoch 3/10\n",
      "110288/110288 [==============================] - 9s 83us/step - loss: 1.4239 - acc: 0.6244 - val_loss: nan - val_acc: 0.6337\n",
      "Epoch 4/10\n",
      "110288/110288 [==============================] - 9s 84us/step - loss: 1.3382 - acc: 0.6406 - val_loss: nan - val_acc: 0.6429\n",
      "Epoch 5/10\n",
      "110288/110288 [==============================] - 9s 83us/step - loss: 1.2895 - acc: 0.6479 - val_loss: nan - val_acc: 0.6498\n",
      "Epoch 6/10\n",
      "110288/110288 [==============================] - 9s 84us/step - loss: 1.2550 - acc: 0.6537 - val_loss: nan - val_acc: 0.6543\n",
      "Epoch 7/10\n",
      "110288/110288 [==============================] - 9s 85us/step - loss: 1.2295 - acc: 0.6567 - val_loss: nan - val_acc: 0.6574\n",
      "Epoch 8/10\n",
      "110288/110288 [==============================] - 9s 84us/step - loss: 1.2102 - acc: 0.6587 - val_loss: nan - val_acc: 0.6593\n",
      "Epoch 9/10\n",
      "110288/110288 [==============================] - 9s 84us/step - loss: 1.1940 - acc: 0.6607 - val_loss: nan - val_acc: 0.6609\n",
      "Epoch 10/10\n",
      "110288/110288 [==============================] - 9s 83us/step - loss: 1.1840 - acc: 0.6619 - val_loss: nan - val_acc: 0.6639\n",
      "new jersey est parfois parfois en l' et il est est en en <PAD> <PAD> <PAD> <PAD> <PAD> <PAD> <PAD> <PAD>\n"
     ]
    }
   ],
   "source": [
    "def bd_model(input_shape, output_sequence_length, english_vocab_size, french_vocab_size):\n",
    "    \"\"\"\n",
    "    Build and train a bidirectional RNN model on x and y\n",
    "    :param input_shape: Tuple of input shape\n",
    "    :param output_sequence_length: Length of output sequence\n",
    "    :param english_vocab_size: Number of unique English words in the dataset\n",
    "    :param french_vocab_size: Number of unique French words in the dataset\n",
    "    :return: Keras model built, but not trained\n",
    "    \"\"\"\n",
    "    #Config Hyperparameters\n",
    "    learning_rate = 0.01\n",
    "    \n",
    "    #Create Model\n",
    "    inputs = Input(shape=input_shape[1:])\n",
    "    hidden_layer = Bidirectional(GRU(output_sequence_length, return_sequences=True))(inputs)\n",
    "    outputs = TimeDistributed(Dense(french_vocab_size, activation='softmax'))(hidden_layer)\n",
    "    \n",
    "    #Create Model from parameters defined above\n",
    "    model = Model(inputs=inputs, outputs=outputs)\n",
    "    model.compile(loss=sparse_categorical_crossentropy,\n",
    "                  optimizer=Adam(learning_rate),\n",
    "                  metrics=['accuracy'])\n",
    "    \n",
    "    return model\n",
    "    \n",
    "tests.test_bd_model(bd_model)\n",
    "tmp_x = pad(preproc_english_sentences, max_french_sequence_length)\n",
    "tmp_x = tmp_x.reshape((-1, preproc_french_sentences.shape[-2], 1))\n",
    "\n",
    "bd_mod = bd_model(\n",
    "        tmp_x.shape,\n",
    "    max_french_sequence_length,\n",
    "    english_vocab_size,\n",
    "    french_vocab_size)\n",
    "bd_mod.summary()\n",
    "bd_mod.fit(tmp_x, preproc_french_sentences, batch_size=1024, epochs=10, validation_split=0.2)\n",
    "print(logits_to_text(bd_mod.predict(tmp_x[:1])[0], french_tokenizer))\n"
   ]
  },
  {
   "cell_type": "markdown",
   "metadata": {},
   "source": [
    "### Model 4: Encoder-Decoder \n",
    "Time to look at encoder-decoder models.  This model is made up of an encoder and decoder. The encoder creates a matrix representation of the sentence.  The decoder takes this matrix as input and predicts the translation as output.\n",
    "\n",
    "Create an encoder-decoder model in the cell below."
   ]
  },
  {
   "cell_type": "code",
   "execution_count": 15,
   "metadata": {},
   "outputs": [
    {
     "name": "stdout",
     "output_type": "stream",
     "text": [
      "_________________________________________________________________\n",
      "Layer (type)                 Output Shape              Param #   \n",
      "=================================================================\n",
      "input_10 (InputLayer)        (None, 21, 1)             0         \n",
      "_________________________________________________________________\n",
      "gru_11 (GRU)                 (None, 21)                1449      \n",
      "_________________________________________________________________\n",
      "dense_11 (Dense)             (None, 128)               2816      \n",
      "_________________________________________________________________\n",
      "repeat_vector_2 (RepeatVecto (None, 21, 128)           0         \n",
      "_________________________________________________________________\n",
      "gru_12 (GRU)                 (None, 21, 128)           98688     \n",
      "_________________________________________________________________\n",
      "time_distributed_10 (TimeDis (None, 21, 344)           44376     \n",
      "=================================================================\n",
      "Total params: 147,329\n",
      "Trainable params: 147,329\n",
      "Non-trainable params: 0\n",
      "_________________________________________________________________\n",
      "Train on 110288 samples, validate on 27573 samples\n",
      "Epoch 1/10\n",
      "110288/110288 [==============================] - 12s 111us/step - loss: 2.6966 - acc: 0.4588 - val_loss: nan - val_acc: 0.5139\n",
      "Epoch 2/10\n",
      "110288/110288 [==============================] - 11s 103us/step - loss: 1.9146 - acc: 0.5392 - val_loss: nan - val_acc: 0.5619\n",
      "Epoch 3/10\n",
      "110288/110288 [==============================] - 11s 104us/step - loss: 1.6413 - acc: 0.5714 - val_loss: nan - val_acc: 0.5524\n",
      "Epoch 4/10\n",
      "110288/110288 [==============================] - 11s 104us/step - loss: 1.5050 - acc: 0.5946 - val_loss: nan - val_acc: 0.6082\n",
      "Epoch 5/10\n",
      "110288/110288 [==============================] - 11s 104us/step - loss: 1.4029 - acc: 0.6128 - val_loss: nan - val_acc: 0.6269\n",
      "Epoch 6/10\n",
      "110288/110288 [==============================] - 12s 105us/step - loss: 1.3148 - acc: 0.6283 - val_loss: nan - val_acc: 0.6338\n",
      "Epoch 7/10\n",
      "110288/110288 [==============================] - 12s 105us/step - loss: 1.4011 - acc: 0.6149 - val_loss: nan - val_acc: 0.6311\n",
      "Epoch 8/10\n",
      "110288/110288 [==============================] - 11s 104us/step - loss: 1.2746 - acc: 0.6347 - val_loss: nan - val_acc: 0.6367\n",
      "Epoch 9/10\n",
      "110288/110288 [==============================] - 11s 104us/step - loss: 1.2461 - acc: 0.6408 - val_loss: nan - val_acc: 0.6359\n",
      "Epoch 10/10\n",
      "110288/110288 [==============================] - 11s 104us/step - loss: 1.2559 - acc: 0.6415 - val_loss: nan - val_acc: 0.4820\n"
     ]
    },
    {
     "data": {
      "text/plain": [
       "<keras.callbacks.History at 0x7fe6a2e8dcc0>"
      ]
     },
     "execution_count": 15,
     "metadata": {},
     "output_type": "execute_result"
    }
   ],
   "source": [
    "def encdec_model(input_shape, output_sequence_length, english_vocab_size, french_vocab_size):\n",
    "    \"\"\"\n",
    "    Build and train an encoder-decoder model on x and y\n",
    "    :param input_shape: Tuple of input shape\n",
    "    :param output_sequence_length: Length of output sequence\n",
    "    :param english_vocab_size: Number of unique English words in the dataset\n",
    "    :param french_vocab_size: Number of unique French words in the dataset\n",
    "    :return: Keras model built, but not trained\n",
    "    \"\"\"\n",
    "    # OPTIONAL: Implement\n",
    "    learning_rate = 1e-2\n",
    "    latent_dim = 128\n",
    "    \n",
    "    # Encoder\n",
    "    encoder_input = Input(shape=input_shape[1:])\n",
    "    encoder_gru = GRU(output_sequence_length)(encoder_input)\n",
    "    encode_output = Dense(latent_dim,activation='relu')(encoder_gru)\n",
    "    \n",
    "    # Config Decode\n",
    "    decoder_input = RepeatVector(output_sequence_length)(encode_output)\n",
    "    decoder_gru = GRU(latent_dim,return_sequences=True)(decoder_input)\n",
    "    output_layer = TimeDistributed(Dense(french_vocab_size,activation='softmax'))\n",
    "    outputs = output_layer(decoder_gru)\n",
    "    model = Model(inputs=encoder_input, outputs=outputs)\n",
    "    model.compile(loss=sparse_categorical_crossentropy,\n",
    "                  optimizer=Adam(learning_rate),\n",
    "                  metrics=['accuracy'])\n",
    "    return model\n",
    "\n",
    "tests.test_encdec_model(encdec_model)\n",
    "tmp_x = pad(preproc_english_sentences, max_french_sequence_length)\n",
    "tmp_x = tmp_x.reshape((-1, preproc_french_sentences.shape[-2], 1))\n",
    "\n",
    "ed_mod = encdec_model(\n",
    "        tmp_x.shape,\n",
    "    max_french_sequence_length,\n",
    "    english_vocab_size,\n",
    "    french_vocab_size)\n",
    "ed_mod.summary()\n",
    "ed_mod.fit(tmp_x, preproc_french_sentences, batch_size=1024, epochs=10, validation_split=0.2)"
   ]
  },
  {
   "cell_type": "markdown",
   "metadata": {},
   "source": [
    "We can see that, the validation accuracy drop from 63% to 48% at epoch 10. It means that this model has problem of over-fitting."
   ]
  },
  {
   "cell_type": "markdown",
   "metadata": {},
   "source": [
    "### Model 5: Custom\n",
    "Use everything you learned from the previous models to create a model that incorporates embedding and a bidirectional rnn into one model."
   ]
  },
  {
   "cell_type": "code",
   "execution_count": 16,
   "metadata": {},
   "outputs": [
    {
     "name": "stdout",
     "output_type": "stream",
     "text": [
      "Final Model Loaded\n"
     ]
    }
   ],
   "source": [
    "def model_final(input_shape, output_sequence_length, english_vocab_size, french_vocab_size):\n",
    "    \"\"\"\n",
    "    Build and train a model that incorporates embedding, encoder-decoder, and bidirectional RNN on x and y\n",
    "    :param input_shape: Tuple of input shape\n",
    "    :param output_sequence_length: Length of output sequence\n",
    "    :param english_vocab_size: Number of unique English words in the dataset\n",
    "    :param french_vocab_size: Number of unique French words in the dataset\n",
    "    :return: Keras model built, but not trained\n",
    "    \"\"\"\n",
    "    #Config Hyperparameters\n",
    "    learning_rate = 0.01\n",
    "    latent_dim = 128\n",
    "    \n",
    "    #Config Model\n",
    "    inputs = Input(shape=input_shape[1:])\n",
    "    embedding_layer = Embedding(input_dim=english_vocab_size,\n",
    "                                output_dim=output_sequence_length,\n",
    "                                mask_zero=False)(inputs)\n",
    "    bd_layer = Bidirectional(GRU(output_sequence_length))(embedding_layer)\n",
    "    encoding_layer = Dense(latent_dim, activation='relu')(bd_layer)\n",
    "    decoding_layer = RepeatVector(output_sequence_length)(encoding_layer)\n",
    "    output_layer = Bidirectional(GRU(latent_dim, return_sequences=True))(decoding_layer)\n",
    "    outputs = TimeDistributed(Dense(french_vocab_size, activation='softmax'))(output_layer)\n",
    "    \n",
    "    #Create Model from parameters defined above\n",
    "    model = Model(inputs=inputs, outputs=outputs)\n",
    "    model.compile(loss=sparse_categorical_crossentropy,\n",
    "                  optimizer=Adam(learning_rate),\n",
    "                  metrics=['accuracy'])\n",
    "    \n",
    "    return model\n",
    "tests.test_model_final(model_final)\n",
    "print('Final Model Loaded')"
   ]
  },
  {
   "cell_type": "markdown",
   "metadata": {},
   "source": [
    "## Prediction"
   ]
  },
  {
   "cell_type": "code",
   "execution_count": 17,
   "metadata": {},
   "outputs": [
    {
     "name": "stdout",
     "output_type": "stream",
     "text": [
      "_________________________________________________________________\n",
      "Layer (type)                 Output Shape              Param #   \n",
      "=================================================================\n",
      "input_12 (InputLayer)        (None, 15)                0         \n",
      "_________________________________________________________________\n",
      "embedding_4 (Embedding)      (None, 15, 21)            4200      \n",
      "_________________________________________________________________\n",
      "bidirectional_5 (Bidirection (None, 42)                5418      \n",
      "_________________________________________________________________\n",
      "dense_15 (Dense)             (None, 128)               5504      \n",
      "_________________________________________________________________\n",
      "repeat_vector_4 (RepeatVecto (None, 21, 128)           0         \n",
      "_________________________________________________________________\n",
      "bidirectional_6 (Bidirection (None, 21, 256)           197376    \n",
      "_________________________________________________________________\n",
      "time_distributed_12 (TimeDis (None, 21, 345)           88665     \n",
      "=================================================================\n",
      "Total params: 301,163\n",
      "Trainable params: 301,163\n",
      "Non-trainable params: 0\n",
      "_________________________________________________________________\n",
      "Train on 110288 samples, validate on 27573 samples\n",
      "Epoch 1/10\n",
      "110288/110288 [==============================] - 21s 190us/step - loss: 2.0686 - acc: 0.5283 - val_loss: 1.3274 - val_acc: 0.6390\n",
      "Epoch 2/10\n",
      "110288/110288 [==============================] - 19s 176us/step - loss: 1.0836 - acc: 0.6928 - val_loss: 0.9005 - val_acc: 0.7336\n",
      "Epoch 3/10\n",
      "110288/110288 [==============================] - 19s 176us/step - loss: 0.8146 - acc: 0.7518 - val_loss: 0.7249 - val_acc: 0.7754\n",
      "Epoch 4/10\n",
      "110288/110288 [==============================] - 19s 176us/step - loss: 0.6564 - acc: 0.7962 - val_loss: 0.6369 - val_acc: 0.8029\n",
      "Epoch 5/10\n",
      "110288/110288 [==============================] - 19s 176us/step - loss: 0.5231 - acc: 0.8357 - val_loss: 0.4633 - val_acc: 0.8549\n",
      "Epoch 6/10\n",
      "110288/110288 [==============================] - 19s 176us/step - loss: 0.4141 - acc: 0.8697 - val_loss: 0.3970 - val_acc: 0.8778\n",
      "Epoch 7/10\n",
      "110288/110288 [==============================] - 19s 176us/step - loss: 0.3275 - acc: 0.8982 - val_loss: 0.3001 - val_acc: 0.9083\n",
      "Epoch 8/10\n",
      "110288/110288 [==============================] - 19s 177us/step - loss: 0.2590 - acc: 0.9199 - val_loss: 0.2417 - val_acc: 0.9249\n",
      "Epoch 9/10\n",
      "110288/110288 [==============================] - 19s 176us/step - loss: 0.2360 - acc: 0.9263 - val_loss: 0.2333 - val_acc: 0.9280\n",
      "Epoch 10/10\n",
      "110288/110288 [==============================] - 19s 176us/step - loss: 0.1941 - acc: 0.9398 - val_loss: 0.2129 - val_acc: 0.9348\n",
      "Sample 1:\n",
      "il a vu un vieux camion jaune <PAD> <PAD> <PAD> <PAD> <PAD> <PAD> <PAD> <PAD> <PAD> <PAD> <PAD> <PAD> <PAD> <PAD>\n",
      "Il a vu un vieux camion jaune\n",
      "Sample 2:\n",
      "new jersey est parfois calme pendant l' et et automne et neigeux en avril <PAD> <PAD> <PAD> <PAD> <PAD> <PAD> <PAD>\n",
      "new jersey est parfois calme pendant l' automne et il est neigeux en avril <PAD> <PAD> <PAD> <PAD> <PAD> <PAD> <PAD>\n"
     ]
    }
   ],
   "source": [
    "def final_predictions(x, y, x_tk, y_tk):\n",
    "    \"\"\"\n",
    "    Gets predictions using the final model\n",
    "    :param x: Preprocessed English data\n",
    "    :param y: Preprocessed French data\n",
    "    :param x_tk: English tokenizer\n",
    "    :param y_tk: French tokenizer\n",
    "    \"\"\"\n",
    "    model = model_final(x.shape,\n",
    "                        y.shape[1],\n",
    "                       len(x_tk.word_index) + 1,\n",
    "                       len(y_tk.word_index) + 1)\n",
    "    model.summary()\n",
    "    model.fit(x, y, batch_size=1024, epochs=10, validation_split=0.2)\n",
    "    \n",
    "    y_id_to_word = {value: key for key, value in y_tk.word_index.items()}\n",
    "    y_id_to_word[0] = '<PAD>'\n",
    "\n",
    "    sentence = 'he saw a old yellow truck'\n",
    "    sentence = [x_tk.word_index[word] for word in sentence.split()]\n",
    "    sentence = pad_sequences([sentence], maxlen=x.shape[-1], padding='post')\n",
    "    sentences = np.array([sentence[0], x[0]])\n",
    "    predictions = model.predict(sentences, len(sentences))\n",
    "\n",
    "    print('Sample 1:')\n",
    "    print(' '.join([y_id_to_word[np.argmax(x)] for x in predictions[0]]))\n",
    "    print('Il a vu un vieux camion jaune')\n",
    "    print('Sample 2:')\n",
    "    print(' '.join([y_id_to_word[np.argmax(x)] for x in predictions[1]]))\n",
    "    print(' '.join([y_id_to_word[np.max(x)] for x in y[0]]))\n",
    "\n",
    "\n",
    "final_predictions(preproc_english_sentences, preproc_french_sentences, english_tokenizer, french_tokenizer)"
   ]
  },
  {
   "cell_type": "markdown",
   "metadata": {},
   "source": [
    "Finally, our model achieved 93.48% accuracy. In this model, we added embedding layer, bidirectional RNN, encoding layer, and decoding layer. So in this project, I showed how to use Keras to design a RNN model for machine learning. Please let me know, if you have any questions."
   ]
  },
  {
   "cell_type": "code",
   "execution_count": null,
   "metadata": {},
   "outputs": [],
   "source": []
  }
 ],
 "metadata": {
  "kernelspec": {
   "display_name": "Python 3",
   "language": "python",
   "name": "python3"
  },
  "language_info": {
   "codemirror_mode": {
    "name": "ipython",
    "version": 3
   },
   "file_extension": ".py",
   "mimetype": "text/x-python",
   "name": "python",
   "nbconvert_exporter": "python",
   "pygments_lexer": "ipython3",
   "version": "3.6.4"
  }
 },
 "nbformat": 4,
 "nbformat_minor": 2
}
